{
 "cells": [
  {
   "cell_type": "markdown",
   "metadata": {},
   "source": [
    "# Multi armed testbed "
   ]
  },
  {
   "cell_type": "markdown",
   "metadata": {},
   "source": [
    "You are faced repeatedly with a choice amoung $k$ different actions or actions. After each choice you receive a numerical reward chosen from a stationary probablity distribution that depends on the action you selected. The objective is to maximize the expected total reward over some time period, for example 1000 action selections or time steps. Given this problem the experiment hypotheizes that near greedy action maximizes the expected reward than the greedy actions."
   ]
  },
  {
   "cell_type": "markdown",
   "metadata": {},
   "source": [
    "## Experiment setup\n",
    "\n",
    "For this experiment we can imagine a slot machine with $k$ arms and for each arm the machine gives us a reward from a sample distribution of mean 0.0 and sd 1. We can the model this distrubtion with the code below."
   ]
  },
  {
   "cell_type": "code",
   "execution_count": 27,
   "metadata": {},
   "outputs": [],
   "source": [
    "import numpy as np\n",
    "import pandas as pd\n",
    "import seaborn as sns"
   ]
  },
  {
   "cell_type": "code",
   "execution_count": 28,
   "metadata": {},
   "outputs": [
    {
     "data": {
      "image/png": "[encoded data removed]",
      "text/plain": [
       "<Figure size 432x288 with 1 Axes>"
      ]
     },
     "metadata": {
      "needs_background": "light"
     },
     "output_type": "display_data"
    }
   ],
   "source": [
    "class RewardDistribution:\n",
    "    def __init__(self, k=10):\n",
    "        self.k = k\n",
    "        self.mu = 0\n",
    "        self.sigma = 1\n",
    "        self.q_star_mu = np.random.normal(self.mu, self.sigma, k)\n",
    "        self.q_star_sd = np.ones(k)\n",
    "\n",
    "    def get_reward(self, action):\n",
    "        Rt = np.random.normal(self.q_star_mu[action], self.q_star_sd[action], 1)\n",
    "        return Rt\n",
    "    \n",
    "    def plot(self):\n",
    "        # create a data frame to plot the distribution\n",
    "        df = {}\n",
    "        sample_size = 1000\n",
    "        for action in range(self.k):\n",
    "            mu = self.q_star_mu[action]\n",
    "            sd = self.q_star_sd[action]\n",
    "            df[f'action_{action}'] = np.random.normal(mu, sd, sample_size)\n",
    "        df = pd.DataFrame(data=df)\n",
    "        sns.boxplot(data=df)\n",
    "\n",
    "rd = RewardDistribution(k=3)\n",
    "rd.plot()"
   ]
  },
  {
   "cell_type": "markdown",
   "metadata": {},
   "source": [
    "## Hypothesis\n",
    "\n",
    "near greedy > greedy > non greedy\n"
   ]
  },
  {
   "cell_type": "markdown",
   "metadata": {},
   "source": [
    "## Running mean\n",
    "\n"
   ]
  },
  {
   "cell_type": "markdown",
   "metadata": {},
   "source": [
    "Let $m_n$ be mean or average value of rewards at $n^{th}$ time step. Let $n$ be the total number of iterations. Let $R_i$ be reward at $i^{th}$ time step.\n",
    "\n",
    "Then\n",
    "\n",
    "\\begin{equation*}\n",
    "m_n = \\frac{\\sum_{i=1}^nR_i}{n}\n",
    "\\newline\n",
    "m_n = \\frac{(\\sum_{i=1}^{n-1}R_i)+R_n}{n}\n",
    "\\newline\n",
    "m_n = \\frac{Rn}{n}+\\frac{\\sum_{i=1}^{n-1}R_{n-1}}{n}\n",
    "\\end{equation*}\n",
    "\n",
    "The sum of $n-1$ rewards $\\sum_{i=1}^{n-1}R_{n-1}$ can also be written as $m_{n-1}$*${n-1}$. Using this the previous equation can be written as\n",
    "\n",
    "\\begin{equation*}\n",
    "m_n = \\frac{Rn}{n} + \\frac{(n-1)m_{n-1}}{n}\n",
    "\\end{equation*}\n",
    "\n",
    "Rearranging terms we get\n",
    "\\begin{equation*}\n",
    "m_n = m_{n-1}+\\frac{R_{n}-m_{n-1}}{n}\n",
    "\\end{equation*}\n",
    "\n",
    "Which means, just by keep track of current reward $R_{i}$ and running mean $m_{n-1}$ we can update the new mean $m_{n}$ by above equation.\n",
    "\n",
    "\\begin{equation*}\n",
    "m_n  \\Leftarrow m_{n-1}+\\frac{R_{n}-m_{n-1}}{n}\n",
    "\\end{equation*}\n",
    "\n"
   ]
  },
  {
   "cell_type": "code",
   "execution_count": 29,
   "metadata": {},
   "outputs": [],
   "source": [
    "def running_average(m_n_1, r_i, n):\n",
    "    m_n = m_n_1 + ((r_i - m_n_1) / n)\n",
    "    return m_n"
   ]
  },
  {
   "cell_type": "markdown",
   "metadata": {},
   "source": [
    "## Experiment setup\n",
    "\n",
    "The goal of this experiment is to compare multi arm bandit problem with greedy and episilon $\\epsilon$ greedy approach. In this experiment we will setup 10 arm bandit or a slot machine setup. "
   ]
  },
  {
   "cell_type": "code",
   "execution_count": 30,
   "metadata": {},
   "outputs": [],
   "source": [
    "class EpsBandit:\n",
    "    def __init__(self, rd, k=10, eps=0.0, iterations=10):\n",
    "        self.k = k\n",
    "        self.eps = eps\n",
    "        self.total_avg_reward = 0.0\n",
    "        self.qa = np.zeros(self.k)\n",
    "        self.ac = np.zeros(self.k)\n",
    "        self.iterations = iterations\n",
    "        self.rd = rd\n",
    "\n",
    "    def sample_an_action(self):\n",
    "\n",
    "        def greedy_action():\n",
    "            # pick action corresponding to high qa\n",
    "            return np.argmax(self.qa)\n",
    "\n",
    "        def random_action():\n",
    "            # pick random action from k selections\n",
    "            return np.random.choice(self.k)\n",
    "\n",
    "        if self.eps == 0:\n",
    "            # always greedy choice\n",
    "            return greedy_action()\n",
    "        else:\n",
    "            p = np.random.rand()\n",
    "            # high epsilon means more weight to random actions\n",
    "            if p < self.eps:\n",
    "                return random_action()\n",
    "            else:\n",
    "                return greedy_action()\n",
    "\n",
    "    def execute_an_action(self, action):\n",
    "        sampled_rewards = self.rd.get_reward(action=action)\n",
    "        self.ac[action] += 1\n",
    "        return sampled_rewards\n",
    "\n",
    "    def log(self, t, action, r_t):\n",
    "        print(f'==== step {t} ====')\n",
    "        print(f'Sampled a reward {r_t} for action A_{action}')\n",
    "        print(f'Tr {self.total_avg_reward}')\n",
    "        print(f'qa {self.qa}')\n",
    "        print(f'ac {self.ac}')\n",
    "        print('\\n')\n",
    "\n",
    "    def get_total_average_rewards(self):\n",
    "        return self.total_avg_reward\n",
    "\n",
    "    def run(self):\n",
    "        \n",
    "        avg_reward = [0.0]\n",
    "        for t in range(1, self.iterations):\n",
    "            action = self.sample_an_action()\n",
    "            r_t = self.execute_an_action(action)\n",
    "            self.total_avg_reward = running_average(m_n_1=self.total_avg_reward, r_i=r_t, n=t)\n",
    "            self.qa[action] = running_average(m_n_1=self.qa[action], r_i=r_t, n=self.ac[action])\n",
    "            avg_reward.append(float(self.total_avg_reward))\n",
    "            #self.log(t, action, r_t)\n",
    "        return avg_reward"
   ]
  },
  {
   "cell_type": "code",
   "execution_count": 31,
   "metadata": {},
   "outputs": [],
   "source": [
    "\n",
    "def run_experiment():\n",
    "    k = 3\n",
    "    rd = RewardDistribution(k=k)\n",
    "    \n",
    "    data = {}\n",
    "    \n",
    "    eps_0 = EpsBandit(rd=rd, k=k, eps=0.0, iterations=1000)\n",
    "    data['eps_0'] = eps_0.run()\n",
    "\n",
    "\n",
    "    eps_0_0_1 = EpsBandit(rd=rd, k=k, eps=0.01, iterations=1000)\n",
    "    data['eps_0_0_1'] = eps_0_0_1.run()\n",
    "\n",
    "\n",
    "    eps_0_1 = EpsBandit(rd=rd, k=k, eps=0.1, iterations=1000)\n",
    "    data['eps_0_1'] = eps_0_1.run()\n",
    "    \n",
    "    return data\n"
   ]
  },
  {
   "cell_type": "code",
   "execution_count": 32,
   "metadata": {},
   "outputs": [
    {
     "data": {
      "text/plain": [
       "<AxesSubplot:>"
      ]
     },
     "execution_count": 32,
     "metadata": {},
     "output_type": "execute_result"
    },
    {
     "data": {
      "image/png": "[encoded data removed]",
      "text/plain": [
       "<Figure size 432x288 with 1 Axes>"
      ]
     },
     "metadata": {
      "needs_background": "light"
     },
     "output_type": "display_data"
    }
   ],
   "source": [
    "def run_episodes():\n",
    "    episodes = 100\n",
    "    result = dict()\n",
    "    result['eps_0'] = np.zeros(1000)\n",
    "    result['eps_0_0_1'] = np.zeros(1000)\n",
    "    result['eps_0_1'] = np.zeros(1000)\n",
    "    for episode in range(1, episodes):\n",
    "        df = pd.DataFrame(run_experiment())\n",
    "        result['eps_0'] = running_average(m_n_1=result['eps_0'], r_i=np.asarray(df['eps_0']), n=episode)\n",
    "        result['eps_0_0_1'] = running_average(m_n_1=result['eps_0_0_1'], r_i=np.asarray(df['eps_0_0_1']), n=episode)\n",
    "        result['eps_0_1'] = running_average(m_n_1=result['eps_0_1'], r_i=np.asarray(df['eps_0_1']), n=episode)\n",
    "        _df = pd.DataFrame(result)\n",
    "    return _df\n",
    "sns.lineplot(data=run_episodes())"
   ]
  },
  {
   "cell_type": "code",
   "execution_count": null,
   "metadata": {},
   "outputs": [],
   "source": []
  }
 ],
 "metadata": {
  "kernelspec": {
   "display_name": "Python 3",
   "language": "python",
   "name": "python3"
  },
  "language_info": {
   "codemirror_mode": {
    "name": "ipython",
    "version": 3
   },
   "file_extension": ".py",
   "mimetype": "text/x-python",
   "name": "python",
   "nbconvert_exporter": "python",
   "pygments_lexer": "ipython3",
   "version": "3.8.4"
  }
 },
 "nbformat": 4,
 "nbformat_minor": 4
}

{
 "cells": [
  {
   "cell_type": "markdown",
   "metadata": {},
   "source": [
    "# Upper confidence bound (Multi Armed Bandit) Algorithm\n",
    "\n",
    "(Naveen Mysore, navimn1991@gmail.com)"
   ]
  },
  {
   "cell_type": "markdown",
   "metadata": {},
   "source": [
    "## Abstract\n",
    "\n",
    "Multi armed bandit algorithms are a class of powerful algorithms that run the modern world. They are used every where from running clinical trails with RCT, Massive AB Testing to recommeding movies on Netflix. Some empirical studies done by evolutionary biologists seem to show plants and slime molds are good at solving this problem [reference](https://royalsocietypublishing.org/doi/full/10.1098/rsif.2016.0030) which questions the fundamentals of intellgence theory. The problem is still open for an optimal or near optimal solution and studies are still being conducted to find a scalable solution [reference](https://www.nature.com/articles/s41598-021-83726-8). These algorithms are so powerful that, empirical studies are now being conducted in political sciences to see how are they affecting modern democracy [reference](https://www.tandfonline.com/doi/abs/10.1080/08838151.2020.1757365) and polarization in society. If you use any of the internet products like Netflix, TikTok, E commerce platforms or any social media platform then you might have noticed that they recommend products or media contents that so well tuned for you [reference](https://www.youtube.com/watch?v=kY-BCNHd_dM&t=589s&ab_channel=DataCouncil). These systems have modelled your behaviour so well that they do a great job of grabbing your attention. In this article, I will document an empirical study showing how these algorithms work so that we can study their impacts on real world. We will first define the problem and explore solutions like episolon greedy algorithms and upper confidence bound algorithms and lay ground work for contextual bandit algorithms.\n"
   ]
  },
  {
   "cell_type": "markdown",
   "metadata": {},
   "source": [
    "## Introduction\n",
    "\n",
    "[Multi armed bandit algorithms](https://en.wikipedia.org/wiki/Multi-armed_bandit) derive their origins from probablity theory and machine learning. The core of the problem is the exploration - exploitation dilemma that an autonomous agent suffer. An autonomous agent is something that is capable of making its own decision based on received information. For example, You and I autonomous agents since we receive information from our environment and take actions based on some decisions. At every instance of an autonomous agent has to make decisions whether to explore something new or to exploit something which is familiar to it. Based on the decision the agent takes the environment rewards the agent with some positive or negative feedback. The problem is often explained using an analogy of a casino slot machine. You are faced repeatedly with a choice among $k$ different actions or options. After each choice you receive a numerical reward chosen from a stationary probablity distribution that depends on the action you selected. The objective is to maximize the expected total reward over some time period."
   ]
  },
  {
   "cell_type": "markdown",
   "metadata": {},
   "source": [
    "## Episolon Greedy and UCB\n",
    "\n",
    "Epsilon-Greedy is a simple method to balance exploration and exploitation by choosing between exploration and exploitation randomly. The epsilon-greedy, where epsilon refers to the probability of choosing to explore, exploits most of the time with a small chance of exploring. Unlike episolon greedy, rather than performing exploration by simply selecting an arbitrary action, chosen with a probability that remains constant, the UCB algorithm changes its exploration-exploitation balance as it gathers more knowledge of the environment. It moves from being primarily focused on exploration, when actions that have been tried the least are preferred, to instead concentrate on exploitation, selecting the action with the highest estimated reward."
   ]
  },
  {
   "cell_type": "markdown",
   "metadata": {},
   "source": [
    "## Experiment setup\n",
    "\n",
    "The goal of this experiment is to compare multi arm bandit problem with epsilon $\\epsilon$ greedy approach and upper confidence bound algorithm. In this experiment we will setup $k=10$ arm bandit for the slot machine and compare four epsilon approaches (0.0, 0.01, 0.1, 0.5) followed by upper confidence bound method. We will be running lots of iterations and episodes. Computing averages for these rewards are both space and computationally expensive and hence we will be using running averages. This implies we just need to store two variables in memory ( previous mean and current reward ). Here is the derivation.\n",
    "\n",
    "Let $m_n$ be mean or average value of rewards at $n^{th}$ time step. Let $n$ be the total number of iterations. Let $R_i$ be reward at $i^{th}$ time step.\n",
    "\n",
    "Then\n",
    "\n",
    "\\begin{equation*}\n",
    "m_n = \\frac{\\sum_{i=1}^n R_i}{n}\n",
    "\\end{equation*}\n",
    "\n",
    "\\begin{equation*}\n",
    "m_n = \\frac{(\\sum_{i=1}^{n-1}R_i)+R_n}{n}\n",
    "\\end{equation*}\n",
    "\n",
    "\\begin{equation*}\n",
    "m_n = \\frac{Rn}{n}+\\frac{\\sum_{i=1}^{n-1}R_{n-1}}{n}\n",
    "\\end{equation*}\n",
    "\n",
    "The sum of $n-1$ rewards $\\sum_{i=1}^{n-1}R_{n-1}$ can also be written as $m_{n-1}$*${n-1}$. Using this the previous equation can be written as\n",
    "\n",
    "\\begin{equation*}\n",
    "m_n = \\frac{Rn}{n} + \\frac{(n-1)m_{n-1}}{n}\n",
    "\\end{equation*}\n",
    "\n",
    "Rearranging terms we get\n",
    "\\begin{equation*}\n",
    "m_n = m_{n-1}+\\frac{R_{n}-m_{n-1}}{n}\n",
    "\\end{equation*}\n",
    "\n",
    "Which means, just by keep track of current reward $R_{i}$ and running mean $m_{n-1}$ we can update the new mean $m_{n}$ by above equation.\n",
    "\n",
    "\\begin{equation*}\n",
    "m_n  \\Leftarrow m_{n-1}+\\frac{R_{n}-m_{n-1}}{n}\n",
    "\\end{equation*}"
   ]
  },
  {
   "cell_type": "markdown",
   "metadata": {},
   "source": [
    "Programatically we can express this as function "
   ]
  },
  {
   "cell_type": "code",
   "execution_count": 110,
   "metadata": {},
   "outputs": [],
   "source": [
    "running_average = lambda m_n_1, r_i, n: m_n_1 + ((r_i - m_n_1) / n)"
   ]
  },
  {
   "cell_type": "markdown",
   "metadata": {},
   "source": [
    "## Environment reward setup\n",
    "\n",
    "We can imagine a slot machine with $k$ arms and for each arm the machine gives us a numerical reward from a sample distribution of mean $mu$ and standard deviation $sd$. We can the model this distrubtion with the code below."
   ]
  },
  {
   "cell_type": "code",
   "execution_count": 111,
   "metadata": {},
   "outputs": [],
   "source": [
    "import numpy as np\n",
    "import pandas as pd\n",
    "import seaborn as sns"
   ]
  },
  {
   "cell_type": "code",
   "execution_count": 112,
   "metadata": {},
   "outputs": [],
   "source": [
    "class RewardDistribution:\n",
    "    def __init__(self, k=10):\n",
    "        self.k = k\n",
    "        self.mu = 0\n",
    "        self.sigma = 1\n",
    "        self.q_star_mu = np.random.normal(self.mu, self.sigma, k)\n",
    "        self.q_star_sd = np.ones(k)\n",
    "        #print(self.q_star_mu, self.q_star_sd)\n",
    "\n",
    "    def get_reward(self, action):\n",
    "        Rt = np.random.normal(self.q_star_mu[action], self.q_star_sd[action], 1)\n",
    "        return Rt\n",
    "    \n",
    "    def plot(self):\n",
    "        # create a data frame to plot the distribution\n",
    "        df = {}\n",
    "        sample_size = 1000\n",
    "        for action in range(self.k):\n",
    "            mu = self.q_star_mu[action]\n",
    "            sd = self.q_star_sd[action]\n",
    "            df[f'action_{action}'] = np.random.normal(mu, sd, sample_size)\n",
    "        df = pd.DataFrame(data=df)\n",
    "        sns.boxplot(data=df)\n"
   ]
  },
  {
   "cell_type": "markdown",
   "metadata": {},
   "source": [
    "Lets model a slot machine with 3 arms and visulize its reward distribution. For each action (pulling a slot arm) the slot machine samples rewards from a distribution of (0,1) and awards it to you. "
   ]
  },
  {
   "cell_type": "code",
   "execution_count": 113,
   "metadata": {},
   "outputs": [
    {
     "data": {
      "image/png": "[encoded data removed]",
      "text/plain": [
       "<Figure size 432x288 with 1 Axes>"
      ]
     },
     "metadata": {
      "needs_background": "light"
     },
     "output_type": "display_data"
    }
   ],
   "source": [
    "rd = RewardDistribution(k=3)\n",
    "rd.plot()"
   ]
  },
  {
   "cell_type": "markdown",
   "metadata": {},
   "source": [
    "Of course in reality you would not know this distribution. If you knew it your probabaly would have been a millionaire by now. Even though we wouldn't know this universe encoded distribution we can use the stategic approach of epsilon greedy to modle this distribution.   "
   ]
  },
  {
   "cell_type": "markdown",
   "metadata": {},
   "source": [
    "## Q values\n",
    "\n",
    "In the literature we model these average estimates as <b>$Q$</b> values. Using a similar defination as above let <b>$R_i$</b> now denote reward received after the <b>$i^ith$</b> iteration for a given action. Let <b>$Q_n$</b> denote the estimate of its action value after it has been selected <b>$n-1$</b> times then\n",
    "\n",
    "\\begin{equation*}\n",
    "Q_n = \\frac{R_1+R_2+R_3+....+R_n-1}{n-1}\n",
    "\\end{equation*}\n",
    "\n",
    "From the derivation made using running averages we can say\n",
    "\n",
    "\\begin{equation*}\n",
    "Q_{n+1} = Q_n + \\frac{1}{n}*(R_n-Q_n)\n",
    "\\end{equation*}\n",
    "\n",
    "This can be informally viewed as this\n",
    "\n",
    "<b>New Estimate</b> $\\leftarrow$ <b>Old Estimate</b> + <b>Step Size</b> (<b>Target</b> - <b>Old Estimate</b>)"
   ]
  },
  {
   "cell_type": "markdown",
   "metadata": {},
   "source": [
    "## Epsilon bandit\n",
    "\n",
    "In this model we will setup $k=10$ arm bandit for the slot machine and compare four epsilon approaches (0.0, 0.01, 0.1, 0.5)."
   ]
  },
  {
   "cell_type": "code",
   "execution_count": 125,
   "metadata": {},
   "outputs": [],
   "source": [
    "class EpsBandit:\n",
    "    def __init__(self, rd, k, eps, iterations):\n",
    "        self.k = k\n",
    "        self.eps = eps\n",
    "        self.total_avg_reward = 0.0\n",
    "        self.qa = np.zeros(self.k)\n",
    "        self.ac = np.zeros(self.k)\n",
    "        self.iterations = iterations\n",
    "        self.rd = rd\n",
    "\n",
    "    def sample_an_action(self):\n",
    "\n",
    "        def greedy_action():\n",
    "            # pick action corresponding to high qa\n",
    "            return np.argmax(self.qa)\n",
    "\n",
    "        def random_action():\n",
    "            # pick random action from k selections\n",
    "            return np.random.choice(self.k)\n",
    "\n",
    "        if self.eps == 0:\n",
    "            # always greedy choice\n",
    "            return greedy_action()\n",
    "        else:\n",
    "            p = np.random.rand()\n",
    "            # high epsilon means more weight to random actions\n",
    "            if p < self.eps:\n",
    "                return random_action()\n",
    "            else:\n",
    "                return greedy_action()\n",
    "\n",
    "    def execute_an_action(self, action):\n",
    "        sampled_rewards = self.rd.get_reward(action=action)\n",
    "        self.ac[action] += 1\n",
    "        return sampled_rewards\n",
    "\n",
    "    def log(self, t, action, r_t):\n",
    "        print(f'==== step {t} ====')\n",
    "        print(f'Sampled a reward {r_t} for action A_{action}')\n",
    "        print(f'Tr {self.total_avg_reward}')\n",
    "        print(f'qa {self.qa}')\n",
    "        print(f'ac {self.ac}')\n",
    "        print('\\n')\n",
    "\n",
    "    def get_total_average_rewards(self):\n",
    "        return self.total_avg_reward\n",
    "    \n",
    "    def get_action_dist(self):\n",
    "        return self.ac\n",
    "    \n",
    "    def run(self):\n",
    "        avg_reward = [0.0]\n",
    "        for t in range(1, self.iterations):\n",
    "            action = self.sample_an_action()\n",
    "            r_t = self.execute_an_action(action)\n",
    "            self.total_avg_reward = running_average(m_n_1=self.total_avg_reward, r_i=r_t, n=t)\n",
    "            self.qa[action] = running_average(m_n_1=self.qa[action], r_i=r_t, n=self.ac[action])\n",
    "            avg_reward.append(float(self.total_avg_reward))\n",
    "        return avg_reward"
   ]
  },
  {
   "cell_type": "markdown",
   "metadata": {},
   "source": [
    "epsilon 0.0 means we always take greedy actions, actions which have maximum rewards in the past. epsilon 0.5 means, 50% of the time we can actions which have maximum rewards in the past and 50% time we will be taking random actions.\n",
    "\n",
    "Ok, now lets run this experiment."
   ]
  },
  {
   "cell_type": "code",
   "execution_count": 120,
   "metadata": {},
   "outputs": [],
   "source": [
    "def run_experiment(k=5, iterations=1000):\n",
    "    rd = RewardDistribution(k=k)\n",
    "    #rd.plot()\n",
    "    data = {}\n",
    "    \n",
    "    fmt = lambda i, eps, cnt: {'action': f\"action_{i}\", 'count': cnt, 'epsilon': f\"eps_{eps}\"}\n",
    "    \n",
    "    eps_0 = EpsBandit(rd=rd, k=k, eps=0.0, iterations=iterations)\n",
    "    data['eps_0'] = eps_0.run()\n",
    "\n",
    "    eps_0_0_1 = EpsBandit(rd=rd, k=k, eps=0.01, iterations=iterations)\n",
    "    data['eps_0_0_1'] = eps_0_0_1.run()\n",
    "\n",
    "    eps_0_1 = EpsBandit(rd=rd, k=k, eps=0.1, iterations=iterations)\n",
    "    data['eps_0_1'] = eps_0_1.run()\n",
    "    \n",
    "    eps_0_5 = EpsBandit(rd=rd, k=k, eps=0.5, iterations=iterations)\n",
    "    data['eps_0_5'] = eps_0_5.run()\n",
    "\n",
    "    return pd.DataFrame(data)\n"
   ]
  },
  {
   "cell_type": "code",
   "execution_count": 121,
   "metadata": {},
   "outputs": [],
   "source": [
    "df = run_experiment()"
   ]
  },
  {
   "cell_type": "markdown",
   "metadata": {},
   "source": [
    "We just ran this experiment for a time step of 1000 and we the collected the running average rewards for different epsilon. As we repeat these experiments our <b>Q</b> values will converge to <b>Q*</b> values. "
   ]
  },
  {
   "cell_type": "markdown",
   "metadata": {},
   "source": [
    "## Running episodes\n",
    "\n",
    "If you notice we sampled reward distribution one time <b>RewardDistribution</b> and we reused it for different epsilon experiment. We need to repeat this experiment many times with different reward distribution for our values to converge to optimal values.  "
   ]
  },
  {
   "cell_type": "code",
   "execution_count": 122,
   "metadata": {},
   "outputs": [],
   "source": [
    "def run_episodes(episodes=1000):\n",
    "    result = dict()\n",
    "    iterations = 1000\n",
    "    result['eps_0'] = np.zeros(iterations)\n",
    "    result['eps_0_0_1'] = np.zeros(iterations)\n",
    "    result['eps_0_1'] = np.zeros(iterations)\n",
    "    result['eps_0_5'] = np.zeros(iterations)\n",
    "    for episode in range(1, episodes):\n",
    "        df = run_experiment(k=10, iterations=iterations)\n",
    "        result['eps_0'] = running_average(m_n_1=result['eps_0'], r_i=np.asarray(df['eps_0']), n=episode)\n",
    "        result['eps_0_0_1'] = running_average(m_n_1=result['eps_0_0_1'], r_i=np.asarray(df['eps_0_0_1']), n=episode)\n",
    "        result['eps_0_1'] = running_average(m_n_1=result['eps_0_1'], r_i=np.asarray(df['eps_0_1']), n=episode)\n",
    "        result['eps_0_5'] = running_average(m_n_1=result['eps_0_5'], r_i=np.asarray(df['eps_0_5']), n=episode)\n",
    "        _df = pd.DataFrame(result)\n",
    "    return _df"
   ]
  },
  {
   "cell_type": "markdown",
   "metadata": {},
   "source": [
    "Now that we have the data we need, we shall format it and prepare for plotting."
   ]
  },
  {
   "cell_type": "code",
   "execution_count": 123,
   "metadata": {},
   "outputs": [
    {
     "name": "stdout",
     "output_type": "stream",
     "text": [
      "   time_step    epsilon  average_reward\n",
      "0          0      eps_0        0.000000\n",
      "1          0  eps_0_0_1        0.000000\n",
      "2          0    eps_0_1        0.000000\n",
      "3          0    eps_0_5        0.000000\n",
      "4          1      eps_0       -0.066626\n"
     ]
    }
   ],
   "source": [
    "def prepare_data_for_plotting(_df):\n",
    "    entries = []\n",
    "    for time_step in range(0, 1000):\n",
    "        entries.append({'time_step': time_step, 'epsilon': 'eps_0', 'average_reward': _df['eps_0'][time_step]})\n",
    "        entries.append({'time_step': time_step, 'epsilon': 'eps_0_0_1', 'average_reward': _df['eps_0_0_1'][time_step]})\n",
    "        entries.append({'time_step': time_step, 'epsilon': 'eps_0_1', 'average_reward': _df['eps_0_1'][time_step]})\n",
    "        entries.append({'time_step': time_step, 'epsilon': 'eps_0_5', 'average_reward': _df['eps_0_5'][time_step]})\n",
    "    dframe = pd.DataFrame(entries)\n",
    "    return dframe\n",
    "    \n",
    "_df = run_episodes(episodes=100)\n",
    "dframe = prepare_data_for_plotting(_df)\n",
    "print(dframe.head())"
   ]
  },
  {
   "cell_type": "code",
   "execution_count": 124,
   "metadata": {},
   "outputs": [
    {
     "data": {
      "text/plain": [
       "<matplotlib.axes._subplots.AxesSubplot at 0x7fcbc8984310>"
      ]
     },
     "execution_count": 124,
     "metadata": {},
     "output_type": "execute_result"
    },
    {
     "data": {
      "image/png": "[encoded data removed]",
      "text/plain": [
       "<Figure size 432x288 with 1 Axes>"
      ]
     },
     "metadata": {
      "needs_background": "light"
     },
     "output_type": "display_data"
    }
   ],
   "source": [
    "sns.lineplot(data=dframe, x='time_step', y='average_reward', hue='epsilon')"
   ]
  },
  {
   "cell_type": "markdown",
   "metadata": {},
   "source": [
    "## Optimistic Initial Values in non stationary environments\n",
    "\n",
    "The methods discussed so far are dependent to some extent on the initial Q values, ie, $Q_1(a)$. In other words these methods are biases with initial values of $Q$. The bias will disappear when all actions are samples infinite time by the law of large numbers. On the other hand in the methods discusses so far we assumed that the enviornment is fixed with a sationary reward distribution. However we know that in real world reward distibution keep changing. So model this problem we need the agent must be encourage to explore more based on the enviorment dynamics. \n",
    "\n",
    "\\begin{equation*}\n",
    "Q_{n+1} = Q_n + \\alpha*(R_n-Q_n)\n",
    "\\end{equation*}\n",
    "\n",
    "Derivation and implemenation details are beyond the scope of this article or may be I will find some time to implmement them in future."
   ]
  },
  {
   "cell_type": "markdown",
   "metadata": {},
   "source": [
    "## Upper confidence bound\n",
    "\n",
    "In this model we will use same setup $k=10$ arm bandit for the slot machine and compare four epsilon approaches (0.0, 0.01, 0.1) with upper confidence bound. e-greedy action selection forces the non-greedy actions to be tried, but indiscriminately, with no preferance for those of near greedy. We need to taken into account how close estimates are for other actions too. \n",
    "\n",
    "\\begin{equation*}\n",
    "A_t = argmax(Q_t(a)+c*\\sqrt{\\frac{ln(t)}{N_t(a)}})\n",
    "\\end{equation*}\n",
    "\n",
    "$ln(t)$ denotes the natural logarithm of time steps and $N_t(a)$ represents number of times an action was chosen. In the above equation the square root term measures the uncertainity or variance in the estimates of action values. And $c$ represents the confidence in those estimates."
   ]
  },
  {
   "cell_type": "code",
   "execution_count": null,
   "metadata": {},
   "outputs": [
    {
     "name": "stderr",
     "output_type": "stream",
     "text": [
      "/Users/naveenmysore/opt/anaconda3/lib/python3.7/site-packages/ipykernel_launcher.py:13: RuntimeWarning: divide by zero encountered in true_divide\n",
      "  del sys.path[0]\n"
     ]
    }
   ],
   "source": [
    "class UCBandit:\n",
    "    def __init__(self, rd, k, iterations):\n",
    "        self.k = k\n",
    "        self.total_avg_reward = 0.0\n",
    "        self.qa = np.zeros(self.k)\n",
    "        self.ac = np.zeros(self.k)\n",
    "        self.iterations = iterations\n",
    "        self.rd = rd\n",
    "        self.c = 2\n",
    "    \n",
    "    def sample_an_action(self):\n",
    "        try:\n",
    "            uncertainity = np.log(self.iterations)/self.ac\n",
    "        except ZeroDivisionError:\n",
    "            print(\"Initial condition.\")\n",
    "            uncertainity = np.zeros(self.k)\n",
    "        uc = self.c * np.sqrt(uncertainity)\n",
    "        return np.argmax(self.qa+uc)\n",
    "\n",
    "    def execute_an_action(self, action):\n",
    "        sampled_rewards = self.rd.get_reward(action=action)\n",
    "        self.ac[action] += 1\n",
    "        return sampled_rewards\n",
    "\n",
    "    def log(self, t, action, r_t):\n",
    "        print(f'==== step {t} ====')\n",
    "        print(f'Sampled a reward {r_t} for action A_{action}')\n",
    "        print(f'Tr {self.total_avg_reward}')\n",
    "        print(f'qa {self.qa}')\n",
    "        print(f'ac {self.ac}')\n",
    "        print('\\n')\n",
    "\n",
    "    def get_total_average_rewards(self):\n",
    "        return self.total_avg_reward\n",
    "    \n",
    "    def get_action_dist(self):\n",
    "        return self.ac\n",
    "    \n",
    "    def run(self):\n",
    "        avg_reward = [0.0]\n",
    "        for t in range(1, self.iterations):\n",
    "            action = self.sample_an_action()\n",
    "            r_t = self.execute_an_action(action)\n",
    "            self.total_avg_reward = running_average(m_n_1=self.total_avg_reward, r_i=r_t, n=t)\n",
    "            self.qa[action] = running_average(m_n_1=self.qa[action], r_i=r_t, n=self.ac[action])\n",
    "            avg_reward.append(float(self.total_avg_reward))\n",
    "            #self.log(t, action, r_t)\n",
    "        return avg_reward\n",
    "                         \n",
    "def run_experiment(k=5, iterations=1000):\n",
    "    rd = RewardDistribution(k=k)\n",
    "    #rd.plot()\n",
    "    data = {}\n",
    "    \n",
    "    fmt = lambda i, eps, cnt: {'action': f\"action_{i}\", 'count': cnt, 'epsilon': f\"eps_{eps}\"}\n",
    "    \n",
    "    eps_0 = EpsBandit(rd=rd, k=k, eps=0.0, iterations=iterations)\n",
    "    data['eps_0'] = eps_0.run()\n",
    "\n",
    "    eps_0_0_1 = EpsBandit(rd=rd, k=k, eps=0.01, iterations=iterations)\n",
    "    data['eps_0_0_1'] = eps_0_0_1.run()\n",
    "\n",
    "    eps_0_1 = EpsBandit(rd=rd, k=k, eps=0.1, iterations=iterations)\n",
    "    data['eps_0_1'] = eps_0_1.run()\n",
    "    \n",
    "    uc_bandit = UCBandit(rd=rd, k=k, iterations=iterations)\n",
    "    data['uc_bandit'] = uc_bandit.run()\n",
    "\n",
    "    return pd.DataFrame(data)\n",
    "\n",
    "df = run_experiment()\n",
    "\n",
    "def run_episodes(episodes=1000):\n",
    "    result = dict()\n",
    "    iterations = 1000\n",
    "    result['eps_0'] = np.zeros(iterations)\n",
    "    result['eps_0_0_1'] = np.zeros(iterations)\n",
    "    result['eps_0_1'] = np.zeros(iterations)\n",
    "    result['uc_bandit'] = np.zeros(iterations)\n",
    "    for episode in range(1, episodes):\n",
    "        df = run_experiment(k=10, iterations=iterations)\n",
    "        result['eps_0'] = running_average(m_n_1=result['eps_0'], r_i=np.asarray(df['eps_0']), n=episode)\n",
    "        result['eps_0_0_1'] = running_average(m_n_1=result['eps_0_0_1'], r_i=np.asarray(df['eps_0_0_1']), n=episode)\n",
    "        result['eps_0_1'] = running_average(m_n_1=result['eps_0_1'], r_i=np.asarray(df['eps_0_1']), n=episode)\n",
    "        result['uc_bandit'] = running_average(m_n_1=result['uc_bandit'], r_i=np.asarray(df['uc_bandit']), n=episode)\n",
    "        _df = pd.DataFrame(result)\n",
    "    return _df\n",
    "\n",
    "def prepare_data_for_plotting(_df):\n",
    "    entries = []\n",
    "    for time_step in range(0, 1000):\n",
    "        entries.append({'time_step': time_step, 'algorithm': 'eps_0', 'average_reward': _df['eps_0'][time_step]})\n",
    "        entries.append({'time_step': time_step, 'algorithm': 'eps_0_0_1', 'average_reward': _df['eps_0_0_1'][time_step]})\n",
    "        entries.append({'time_step': time_step, 'algorithm': 'eps_0_1', 'average_reward': _df['eps_0_1'][time_step]})\n",
    "        entries.append({'time_step': time_step, 'algorithm': 'uc_bandit', 'average_reward': _df['uc_bandit'][time_step]})\n",
    "    dframe = pd.DataFrame(entries)\n",
    "    return dframe\n",
    "    \n",
    "_df = run_episodes(episodes=100)\n",
    "dframe = prepare_data_for_plotting(_df)\n",
    "print(dframe.head())\n",
    "\n",
    "sns.lineplot(data=dframe, x='time_step', y='average_reward', hue='algorithm')"
   ]
  },
  {
   "cell_type": "markdown",
   "metadata": {},
   "source": [
    "## Associative Search (Contextual Bandits)\n",
    "\n",
    "Associated search involves both trial-and-error learning to search for the best actions and associations of these actions with the situations in which they are best. Associative search tasks are intermediate between the k-armed bandit and the reinforcement learning problem. The scope of study of these algorithms are beyond the scope of this article and I plan to cover them in upcoming articles."
   ]
  },
  {
   "cell_type": "markdown",
   "metadata": {},
   "source": [
    "## Conclusion\n",
    "\n",
    "In these article we defined the problem of explortion/explotiation and its applications in real world. We also demonstated that near greedy solutions are efficient in epsilon greedy settings. We also saw Upper confidence bound algorithms perform better than epsilon greedy algorithms but they are limited to stationary enviornments. We finally laid ground work to associative search or contextual bandits algorithms."
   ]
  }
 ],
 "metadata": {
  "kernelspec": {
   "display_name": "Python 3",
   "language": "python",
   "name": "python3"
  },
  "language_info": {
   "codemirror_mode": {
    "name": "ipython",
    "version": 3
   },
   "file_extension": ".py",
   "mimetype": "text/x-python",
   "name": "python",
   "nbconvert_exporter": "python",
   "pygments_lexer": "ipython3",
   "version": "3.7.4"
  }
 },
 "nbformat": 4,
 "nbformat_minor": 4
}
